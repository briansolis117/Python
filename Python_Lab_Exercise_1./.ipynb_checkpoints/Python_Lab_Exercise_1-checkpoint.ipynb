{
 "cells": [
  {
   "cell_type": "markdown",
   "metadata": {
    "hide_input": true
   },
   "source": [
    "# Python Lab Exercise #1\n",
    "\n",
    "## Learning Objectives\n",
    "\n",
    "The purpose of this notebook is for you to review some of the Python covered in the lecture, including the following: \n",
    "\n",
    "- Assigning variables\n",
    "- Classifying and explaining data types (integers, floats, strings, booleans, lists, dictionaries, and tuples)\n",
    "- Identifying comparators and boolean operators to create conditional code\n",
    "- Making use of lists: indexing, appending, and joining them\n",
    "- Making use of dictionaries: identifying, creating, and navigating them\n",
    "- Moving between lists and dictionaries (zipping lists together to make dictionaries, or pulling relevant data from a dictionary into a list)\n",
    "- Applying for loops to lists and dictionaries\n",
    "\n",
    "Some new things we're bringing up that weren't covered in class:\n",
    "\n",
    "- Using f-strings or `.format()` to print readable code with variables\n",
    "- Using `.zip()` to combine two lists into a dictionary"
   ]
  },
  {
   "cell_type": "markdown",
   "metadata": {},
   "source": [
    "## To do all that, we are going to code up versions of a bento box:\n",
    "\n",
    "![bento box image](https://images.pexels.com/photos/884596/pexels-photo-884596.jpeg?auto=compress&cs=tinysrgb&dpr=2&h=750&w=1260)\n",
    "\n",
    "### Bento boxes can have multiple ingredients and choices\n",
    "\n",
    "By the end, we want to combine multiple bento orders into one data collection, and print each item for the restaurant. \n",
    "\n",
    "### Variable assignment \n",
    "\n",
    "Let's start with our first bento order:"
   ]
  },
  {
   "cell_type": "code",
   "execution_count": 4,
   "metadata": {},
   "outputs": [],
   "source": [
    "# Run this cell without changes\n",
    "main = \"rice\"\n",
    "protein = \"salmon\"\n",
    "oz_of_protein = 4.5\n",
    "number_of_sides = 3\n",
    "side1 = 'seaweed'\n",
    "side2 = 'onigiri'\n",
    "side3 = 'turnip pickle'\n",
    "great_bento = True"
   ]
  },
  {
   "cell_type": "markdown",
   "metadata": {},
   "source": [
    "Now, if we wanted to change our protein to ginger chicken, how would we do that?"
   ]
  },
  {
   "cell_type": "code",
   "execution_count": 7,
   "metadata": {},
   "outputs": [],
   "source": [
    "# Code here to protein = \"ginger chicken\"\n",
    "protein = \"ginger chicken\"\n"
   ]
  },
  {
   "cell_type": "markdown",
   "metadata": {},
   "source": [
    "And changing the amount of protein to 3.5?"
   ]
  },
  {
   "cell_type": "code",
   "execution_count": 9,
   "metadata": {},
   "outputs": [],
   "source": [
    "# Code here to change oz_of_protein\n",
    "oz_of_protein = 3.5"
   ]
  },
  {
   "cell_type": "markdown",
   "metadata": {},
   "source": [
    "We can reassign variable values easily.\n",
    "\n",
    "Now, we assigned those variables one at a time. We also can assign multiple values at once:\n",
    "\n",
    "`side1, side2, side3 = \"carrots\", \"kimchi\", \"mushrooms\"`\n",
    "\n",
    "Update your side order to match your preferences - add whatever you want! "
   ]
  },
  {
   "cell_type": "code",
   "execution_count": 11,
   "metadata": {},
   "outputs": [],
   "source": [
    "# Code here to change sides \n",
    "side1, side2, side3 = \"edamame\", \"tempura\", \"miso soup\""
   ]
  },
  {
   "cell_type": "markdown",
   "metadata": {},
   "source": [
    "Then use `print()` to confirm the variables changed."
   ]
  },
  {
   "cell_type": "code",
   "execution_count": 13,
   "metadata": {},
   "outputs": [
    {
     "name": "stdout",
     "output_type": "stream",
     "text": [
      "edamame\n",
      "tempura\n",
      "miso soup\n"
     ]
    }
   ],
   "source": [
    "# Code here to confirm your changes\n",
    "side1, side2, side3 = \"edamame\", \"tempura\", \"miso soup\"\n",
    "\n",
    "print(side1)  # Output: edamame\n",
    "print(side2)  # Output: tempura\n",
    "print(side3)  # Output: miso soup"
   ]
  },
  {
   "cell_type": "markdown",
   "metadata": {},
   "source": [
    "### Variable Types\n",
    "\n",
    "Each variable in our bento box has a `type`. "
   ]
  },
  {
   "cell_type": "code",
   "execution_count": 15,
   "metadata": {
    "hide_input": false
   },
   "outputs": [
    {
     "data": {
      "text/plain": [
       "str"
      ]
     },
     "execution_count": 15,
     "metadata": {},
     "output_type": "execute_result"
    }
   ],
   "source": [
    "# Run this cell without changes\n",
    "type(side1)"
   ]
  },
  {
   "cell_type": "markdown",
   "metadata": {},
   "source": [
    "Run `type()` on some of the remaining variables to explore the type options."
   ]
  },
  {
   "cell_type": "code",
   "execution_count": 17,
   "metadata": {},
   "outputs": [
    {
     "name": "stdout",
     "output_type": "stream",
     "text": [
      "<class 'str'>\n",
      "<class 'str'>\n",
      "<class 'float'>\n",
      "<class 'int'>\n",
      "<class 'bool'>\n"
     ]
    }
   ],
   "source": [
    "# Code here to check other variable types\n",
    "print(type(main))           # Expected output: <class 'str'>\n",
    "print(type(protein))        # Expected output: <class 'str'>\n",
    "print(type(oz_of_protein))  # Expected output: <class 'float'>\n",
    "print(type(number_of_sides)) # Expected output: <class 'int'>\n",
    "print(type(great_bento))    # Expected output: <class 'bool'>"
   ]
  },
  {
   "cell_type": "markdown",
   "metadata": {},
   "source": [
    "Each data type in Python has a set behavior in a lot of ways, and knowing what type your variable is can help you know exactly what you can do with it!"
   ]
  },
  {
   "cell_type": "markdown",
   "metadata": {},
   "source": [
    "### Control Flow Operators, If Statements and Conditionals\n",
    "\n",
    "Now what if you have food allergies, or want to be able to evaluate a variable before changing it for any other reason?\n",
    "\n",
    "Well you're in luck, cause we have control flow operators and if statements and conditionals!\n",
    "\n",
    "Control flow operators include:\n",
    "\n",
    "```python\n",
    "== # Is equal to?\n",
    "!= # Is not equal to? \n",
    ">  # Is greater than?\n",
    "<  # Is less than?\n",
    "<= # Is less than or equal to?\n",
    ">= # Is greater than or equal to?\n",
    "```\n",
    "\n",
    "Note that these evaluate something - this is different from setting a variable. With control flow operators like these, you're asking a question: \"Is this equal to that?\" \"Is this greater than that?\" etc!"
   ]
  },
  {
   "cell_type": "markdown",
   "metadata": {},
   "source": [
    "Decision making using these kinds of evaluators/control flow operators works like this:\n",
    "\n",
    "![how conditional works](./image/decision_making.jpg)\n",
    "\n",
    "The [tools](https://docs.python.org/3/tutorial/controlflow.html) used in conditionals are `if`, `elif`, and `else`.\n",
    "\n",
    "For example: \n",
    "\n",
    "```python\n",
    "if (protein == 'salmon'):\n",
    "      print(\"I love salmon!\")\n",
    "```\n",
    "\n",
    "Will I like this bento box?"
   ]
  },
  {
   "cell_type": "code",
   "execution_count": 19,
   "metadata": {},
   "outputs": [
    {
     "name": "stdout",
     "output_type": "stream",
     "text": [
      "no carbs, please!\n"
     ]
    }
   ],
   "source": [
    "# Run this cell without changes\n",
    "if (main == 'rice'):\n",
    "    print(\"no carbs, please!\")\n",
    "elif(oz_of_protein >= 2.5):\n",
    "    print(\"too much!\")\n",
    "else:\n",
    "    print(\"I will like this bento box!\")"
   ]
  },
  {
   "cell_type": "markdown",
   "metadata": {},
   "source": [
    "Above, if the main isn't rice and if the amount of protein is less than 2.5, I think I'll like the box!\n",
    "\n",
    "Update the above code example, but rather than `print`, instead set `great_bento` equal to `True` or `False` depending on the values of the bento box ingredients - feel free to customize the checks based on your own personal preferences!"
   ]
  },
  {
   "cell_type": "code",
   "execution_count": 21,
   "metadata": {},
   "outputs": [
    {
     "name": "stdout",
     "output_type": "stream",
     "text": [
      "True\n"
     ]
    }
   ],
   "source": [
    "# Update the code below, based on your own preferences\n",
    "if main == \"rice\" and protein == \"ginger chicken\" and oz_of_protein >= 3.5:\n",
    "    great_bento = True\n",
    "elif number_of_sides < 2:  \n",
    "    great_bento = False  \n",
    "else:\n",
    "    great_bento = True  \n",
    "\n",
    "print(great_bento)  # This will output True or False based on the conditions\n"
   ]
  },
  {
   "cell_type": "code",
   "execution_count": 23,
   "metadata": {},
   "outputs": [
    {
     "data": {
      "text/plain": [
       "True"
      ]
     },
     "execution_count": 23,
     "metadata": {},
     "output_type": "execute_result"
    }
   ],
   "source": [
    "# Is great_bento True or False right now?\n",
    "True"
   ]
  },
  {
   "cell_type": "markdown",
   "metadata": {},
   "source": [
    "## Using Lists: indexing, appending, joining"
   ]
  },
  {
   "cell_type": "markdown",
   "metadata": {},
   "source": [
    "![dog-to-do-list gif from giphy](https://media.giphy.com/media/xTiTnuhyBF54B852nK/giphy.gif)\n",
    "\n",
    "Writing out all those ingredients individually is a pain, let's put them in a list!\n",
    "\n",
    "(You can retype your ingredient list, or use the variables you assigned above)"
   ]
  },
  {
   "cell_type": "code",
   "execution_count": 25,
   "metadata": {},
   "outputs": [
    {
     "name": "stdout",
     "output_type": "stream",
     "text": [
      "['rice', 'ginger chicken', 3.5, 'edamame', 'tempura', 'miso soup']\n"
     ]
    }
   ],
   "source": [
    "# Replace None with relevant code\n",
    "bento_ingredients = [main, protein, oz_of_protein, side1, side2, side3]\n",
    "print(bento_ingredients)\n"
   ]
  },
  {
   "cell_type": "markdown",
   "metadata": {},
   "source": [
    "Lists are ordered, meaning you can access the index number for an element:"
   ]
  },
  {
   "cell_type": "code",
   "execution_count": 27,
   "metadata": {
    "scrolled": true
   },
   "outputs": [
    {
     "data": {
      "text/plain": [
       "'tempura'"
      ]
     },
     "execution_count": 27,
     "metadata": {},
     "output_type": "execute_result"
    }
   ],
   "source": [
    "# Run this cell without changes\n",
    "bento_ingredients[4]"
   ]
  },
  {
   "cell_type": "markdown",
   "metadata": {},
   "source": [
    "Or you can grab ranges/slices of a list:"
   ]
  },
  {
   "cell_type": "code",
   "execution_count": 29,
   "metadata": {},
   "outputs": [
    {
     "data": {
      "text/plain": [
       "[3.5, 'edamame', 'tempura']"
      ]
     },
     "execution_count": 29,
     "metadata": {},
     "output_type": "execute_result"
    }
   ],
   "source": [
    "# Run this cell without changes\n",
    "# Note that our 3rd side is the 4th element above, but we use 5 in the range\n",
    "# Play around with these numbers, and start to build some understanding of \n",
    "# which elements are where exactly in the list\n",
    "bento_ingredients[2:5]"
   ]
  },
  {
   "cell_type": "markdown",
   "metadata": {},
   "source": [
    "Add items to a list with `.append()` - add something else you like to your order!"
   ]
  },
  {
   "cell_type": "code",
   "execution_count": 31,
   "metadata": {},
   "outputs": [
    {
     "name": "stdout",
     "output_type": "stream",
     "text": [
      "['rice', 'ginger chicken', 3.5, 'edamame', 'tempura', 'miso soup', 'matcha mochi']\n"
     ]
    }
   ],
   "source": [
    "# Code here to add to your list\n",
    "bento_ingredients.append(\"matcha mochi\")\n",
    "print(bento_ingredients)  # This will show the updated list with the new item added"
   ]
  },
  {
   "cell_type": "markdown",
   "metadata": {},
   "source": [
    "If you don't want to keep that last item, you can use `.pop()` to remove it."
   ]
  },
  {
   "cell_type": "code",
   "execution_count": 33,
   "metadata": {},
   "outputs": [
    {
     "name": "stdout",
     "output_type": "stream",
     "text": [
      "['rice', 'ginger chicken', 3.5, 'edamame', 'tempura', 'miso soup']\n"
     ]
    }
   ],
   "source": [
    "# Code here to test that out\n",
    "bento_ingredients.pop()\n",
    "print(bento_ingredients)  # This will show the list without the last item"
   ]
  },
  {
   "cell_type": "code",
   "execution_count": 35,
   "metadata": {},
   "outputs": [
    {
     "name": "stdout",
     "output_type": "stream",
     "text": [
      "['rice', 'ginger chicken', 3.5, 'edamame', 'tempura', 'miso soup']\n"
     ]
    }
   ],
   "source": [
    "# Now check what your list looks like - is that last item still there?\n",
    "print(bento_ingredients)  # This will show the list after the last item has been removed"
   ]
  },
  {
   "cell_type": "markdown",
   "metadata": {},
   "source": [
    "Now, let's put our bento box in a readable format using `join`:"
   ]
  },
  {
   "cell_type": "code",
   "execution_count": 45,
   "metadata": {},
   "outputs": [
    {
     "ename": "TypeError",
     "evalue": "sequence item 2: expected str instance, float found",
     "output_type": "error",
     "traceback": [
      "\u001b[0;31m---------------------------------------------------------------------------\u001b[0m",
      "\u001b[0;31mTypeError\u001b[0m                                 Traceback (most recent call last)",
      "Cell \u001b[0;32mIn[45], line 3\u001b[0m\n\u001b[1;32m      1\u001b[0m \u001b[38;5;66;03m# Run this cell without changes\u001b[39;00m\n\u001b[1;32m      2\u001b[0m \u001b[38;5;28mprint\u001b[39m(\u001b[38;5;124m\"\u001b[39m\u001b[38;5;124mI\u001b[39m\u001b[38;5;124m'\u001b[39m\u001b[38;5;124md like my bento box to contain: \u001b[39m\u001b[38;5;124m\"\u001b[39m \u001b[38;5;241m+\u001b[39m\n\u001b[0;32m----> 3\u001b[0m       \u001b[38;5;124m\"\u001b[39m\u001b[38;5;124m, \u001b[39m\u001b[38;5;124m\"\u001b[39m\u001b[38;5;241m.\u001b[39mjoin(bento_ingredients[:\u001b[38;5;241m-\u001b[39m\u001b[38;5;241m1\u001b[39m]) \u001b[38;5;241m+\u001b[39m \u001b[38;5;124m\"\u001b[39m\u001b[38;5;124m, and \u001b[39m\u001b[38;5;124m\"\u001b[39m \u001b[38;5;241m+\u001b[39m bento_ingredients[\u001b[38;5;241m-\u001b[39m\u001b[38;5;241m1\u001b[39m])\n",
      "\u001b[0;31mTypeError\u001b[0m: sequence item 2: expected str instance, float found"
     ]
    }
   ],
   "source": [
    "# Run this cell without changes\n",
    "print(\"I'd like my bento box to contain: \" +\n",
    "      \", \".join(bento_ingredients[:-1]) + \", and \" + bento_ingredients[-1])"
   ]
  },
  {
   "cell_type": "markdown",
   "metadata": {},
   "source": [
    "**New thing!** F-strings allow you to easily format strings to add variables or elements from an iterable (like a list). You can also use `.format()` in a similar way."
   ]
  },
  {
   "cell_type": "code",
   "execution_count": 39,
   "metadata": {},
   "outputs": [
    {
     "name": "stdout",
     "output_type": "stream",
     "text": [
      "My bento box will include rice and ginger chicken.\n"
     ]
    }
   ],
   "source": [
    "# Run this cell without changes\n",
    "print(f\"My bento box will include {bento_ingredients[0]} and {bento_ingredients[1]}.\")"
   ]
  },
  {
   "cell_type": "code",
   "execution_count": 41,
   "metadata": {},
   "outputs": [
    {
     "name": "stdout",
     "output_type": "stream",
     "text": [
      "My bento box will include rice and ginger chicken.\n"
     ]
    }
   ],
   "source": [
    "# The above cell is the same as:\n",
    "print(\"My bento box will include {} and {}.\".format(bento_ingredients[0], bento_ingredients[1]))"
   ]
  },
  {
   "cell_type": "markdown",
   "metadata": {},
   "source": [
    "**Think about it:** How is the f-string/format working differently from the join we did before?\n",
    "\n",
    "- \n"
   ]
  },
  {
   "cell_type": "markdown",
   "metadata": {},
   "source": [
    "## Using Dictionaries: Identifying, Creating, Navigating"
   ]
  },
  {
   "cell_type": "markdown",
   "metadata": {},
   "source": [
    "![dictionary](https://images.pexels.com/photos/270233/pexels-photo-270233.jpeg?auto=compress&cs=tinysrgb&dpr=2&w=500)\n",
    "\n",
    "No, not that kind! \n",
    "\n",
    "With your list above, someone would need to tell you that \"rice\" is the main and \"salmon\" is the protein. \n",
    "\n",
    "Dictionaries let you assign **key** and **value** pairs, which connects a key like \"main\" to a value like \"rice\". Rather than using **indexing**, you use **keys** to return values.\n",
    "\n",
    "Update your bento box to be a dictionary. There are multiple ways to do this! You can type all of your details out, matching to the information we have from the very beginning of this notebook, or you can use your list and a new list of keys to zip your bento box together.\n",
    "\n",
    "Make sure to run `type()` on your dictionary to confirm it is successful."
   ]
  },
  {
   "cell_type": "code",
   "execution_count": 47,
   "metadata": {
    "scrolled": true
   },
   "outputs": [
    {
     "name": "stdout",
     "output_type": "stream",
     "text": [
      "{'ingredient1': 'rice', 'ingredient2': 'tempura', 'ingredient3': 'miso soup'}\n",
      "<class 'dict'>\n"
     ]
    }
   ],
   "source": [
    "# Here's an example of zipping two lists together to form a dictionary\n",
    "bento_keys = [\"ingredient1\", \"ingredient2\", \"ingredient3\"]\n",
    "bento_values = [\"rice\", \"tempura\", \"miso soup\"]\n",
    "\n",
    "bento_dict = dict(zip(bento_keys, bento_values))\n",
    "\n",
    "print(bento_dict)\n",
    "print(type(bento_dict))"
   ]
  },
  {
   "cell_type": "code",
   "execution_count": 49,
   "metadata": {},
   "outputs": [
    {
     "name": "stdout",
     "output_type": "stream",
     "text": [
      "{'main': 'rice', 'protein': 'ginger chicken', 'oz_of_protein': 3.5, 'side1': 'edamame', 'side2': 'tempura', 'side3': 'miso soup'}\n",
      "<class 'dict'>\n"
     ]
    }
   ],
   "source": [
    "# Code here to create a dictionary from your bento ingredients\n",
    "# Change things up to whatever you like!\n",
    "bento_dict = {\n",
    "    \"main\": main,\n",
    "    \"protein\": protein,\n",
    "    \"oz_of_protein\": oz_of_protein,\n",
    "    \"side1\": side1,\n",
    "    \"side2\": side2,\n",
    "    \"side3\": side3\n",
    "}\n",
    "\n",
    "print(bento_dict)\n",
    "print(type(bento_dict))  # Expected output: <class 'dict'>"
   ]
  },
  {
   "cell_type": "code",
   "execution_count": 51,
   "metadata": {},
   "outputs": [
    {
     "name": "stdout",
     "output_type": "stream",
     "text": [
      "{'main': 'rice', 'protein': 'ginger chicken', 'oz_of_protein': 3.5, 'side1': 'edamame', 'side2': 'tempura', 'side3': 'miso soup'}\n",
      "<class 'dict'>\n"
     ]
    }
   ],
   "source": [
    "# Code here to check your work - check type, and print your dictionary\n",
    "print(bento_dict)  # Print the dictionary to see its contents\n",
    "print(type(bento_dict))  # Check the type to confirm it's a dictionary\n",
    "\n"
   ]
  },
  {
   "cell_type": "markdown",
   "metadata": {},
   "source": [
    "You use the key of the dictionary to access its value, for example `bento_box['main']` "
   ]
  },
  {
   "cell_type": "code",
   "execution_count": 53,
   "metadata": {},
   "outputs": [
    {
     "name": "stdout",
     "output_type": "stream",
     "text": [
      "rice\n",
      "ginger chicken\n",
      "edamame\n",
      "3.5\n"
     ]
    }
   ],
   "source": [
    "# Practice accessing elements in your bento box\n",
    "print(bento_dict[\"main\"])      # Output: rice (or whatever your main is)\n",
    "print(bento_dict[\"protein\"])   # Output: ginger chicken (or your chosen protein)\n",
    "print(bento_dict[\"side1\"])     # Output: edamame (or your first side)\n",
    "print(bento_dict[\"oz_of_protein\"])  # Output: 3.5 (or your chosen amount)"
   ]
  },
  {
   "cell_type": "markdown",
   "metadata": {},
   "source": [
    "Let's say we want to combine EVERYONE'S bento dictionaries - we can nest those dictonaries inside of a list!\n",
    "\n",
    "Let's get a few different bento box orders into a group order - use Slack to send your dictionaries to each other (you'll want to send everyone the dictionary output, not the code you wrote if you used zip to create your dictionary). \n",
    "\n",
    "**Tip:** make sure each of the dictionaries are structured the same, with the same key names for what is in the bento boxes (as in, make sure you each have a main, a protein, and the same number of sides) - for this exercise, it'll make your life easier later on! \n",
    "\n",
    "Grab at least two other orders and create a list of different dictionaries:"
   ]
  },
  {
   "cell_type": "code",
   "execution_count": 55,
   "metadata": {},
   "outputs": [
    {
     "name": "stdout",
     "output_type": "stream",
     "text": [
      "[{'main': 'rice', 'protein': 'ginger chicken', 'oz_of_protein': 3.5, 'side1': 'edamame', 'side2': 'tempura', 'side3': 'miso soup'}, {'main': 'soba', 'protein': 'tofu', 'oz_of_protein': 4, 'side1': 'cucumber salad', 'side2': 'pickled radish', 'side3': 'miso soup'}, {'main': 'rice', 'protein': 'teriyaki beef', 'oz_of_protein': 5, 'side1': 'kimchi', 'side2': 'seaweed salad', 'side3': 'dumplings'}]\n",
      "<class 'list'>\n"
     ]
    }
   ],
   "source": [
    "# Code here to combine your group order\n",
    "group_order = [\n",
    "    bento_dict,  # Your bento order\n",
    "    {\"main\": \"soba\", \"protein\": \"tofu\", \"oz_of_protein\": 4, \"side1\": \"cucumber salad\", \"side2\": \"pickled radish\", \"side3\": \"miso soup\"},\n",
    "    {\"main\": \"rice\", \"protein\": \"teriyaki beef\", \"oz_of_protein\": 5, \"side1\": \"kimchi\", \"side2\": \"seaweed salad\", \"side3\": \"dumplings\"}\n",
    "]\n",
    "\n",
    "print(group_order)  # Check the combined group order\n",
    "print(type(group_order))  # Should print <class 'list'>\n"
   ]
  },
  {
   "cell_type": "code",
   "execution_count": 57,
   "metadata": {},
   "outputs": [
    {
     "name": "stdout",
     "output_type": "stream",
     "text": [
      "[{'main': 'rice', 'protein': 'ginger chicken', 'oz_of_protein': 3.5, 'side1': 'edamame', 'side2': 'tempura', 'side3': 'miso soup'}, {'main': 'soba', 'protein': 'tofu', 'oz_of_protein': 4, 'side1': 'cucumber salad', 'side2': 'pickled radish', 'side3': 'miso soup'}, {'main': 'rice', 'protein': 'teriyaki beef', 'oz_of_protein': 5, 'side1': 'kimchi', 'side2': 'seaweed salad', 'side3': 'dumplings'}]\n",
      "<class 'list'>\n",
      "Bento Order 1: {'main': 'rice', 'protein': 'ginger chicken', 'oz_of_protein': 3.5, 'side1': 'edamame', 'side2': 'tempura', 'side3': 'miso soup'}\n",
      "Bento Order 2: {'main': 'soba', 'protein': 'tofu', 'oz_of_protein': 4, 'side1': 'cucumber salad', 'side2': 'pickled radish', 'side3': 'miso soup'}\n",
      "Bento Order 3: {'main': 'rice', 'protein': 'teriyaki beef', 'oz_of_protein': 5, 'side1': 'kimchi', 'side2': 'seaweed salad', 'side3': 'dumplings'}\n"
     ]
    }
   ],
   "source": [
    "# Code here to check your work\n",
    "# Print the entire group order\n",
    "print(group_order)\n",
    "\n",
    "# Check the type to confirm it's a list\n",
    "print(type(group_order))  # Expected output: <class 'list'>\n",
    "\n",
    "# Print each bento order separately for clarity\n",
    "for index, order in enumerate(group_order, start=1):\n",
    "    print(f\"Bento Order {index}: {order}\")\n"
   ]
  },
  {
   "cell_type": "markdown",
   "metadata": {},
   "source": [
    "But what if we also want to keep track of whose order is whose? Instead of doing a list of dictionaries, we can do a nested dictionary of dictionaries! \n",
    "\n",
    "![Dictionaries inside dictionaries](https://i.imgflip.com/3orgly.jpg)\n",
    "\n",
    "Create a dictionary of dictionaries, where the key is the name of the person ordering and the value is their bento dictionary:"
   ]
  },
  {
   "cell_type": "code",
   "execution_count": 59,
   "metadata": {},
   "outputs": [
    {
     "name": "stdout",
     "output_type": "stream",
     "text": [
      "{'Brian': {'main': 'rice', 'protein': 'ginger chicken', 'oz_of_protein': 3.5, 'side1': 'edamame', 'side2': 'tempura', 'side3': 'miso soup'}, 'Alex': {'main': 'soba', 'protein': 'tofu', 'oz_of_protein': 4, 'side1': 'cucumber salad', 'side2': 'pickled radish', 'side3': 'miso soup'}, 'Jamie': {'main': 'rice', 'protein': 'teriyaki beef', 'oz_of_protein': 5, 'side1': 'kimchi', 'side2': 'seaweed salad', 'side3': 'dumplings'}}\n"
     ]
    }
   ],
   "source": [
    "# Code here to create your nested dictionaries\n",
    "group_bento_orders = {\n",
    "    \"Brian\": bento_dict,  # Your order\n",
    "    \"Alex\": {\n",
    "        \"main\": \"soba\",\n",
    "        \"protein\": \"tofu\",\n",
    "        \"oz_of_protein\": 4,\n",
    "        \"side1\": \"cucumber salad\",\n",
    "        \"side2\": \"pickled radish\",\n",
    "        \"side3\": \"miso soup\"\n",
    "    },\n",
    "    \"Jamie\": {\n",
    "        \"main\": \"rice\",\n",
    "        \"protein\": \"teriyaki beef\",\n",
    "        \"oz_of_protein\": 5,\n",
    "        \"side1\": \"kimchi\",\n",
    "        \"side2\": \"seaweed salad\",\n",
    "        \"side3\": \"dumplings\"\n",
    "    }\n",
    "}\n",
    "\n",
    "# Print the nested dictionary\n",
    "print(group_bento_orders)\n"
   ]
  },
  {
   "cell_type": "code",
   "execution_count": 65,
   "metadata": {},
   "outputs": [
    {
     "name": "stdout",
     "output_type": "stream",
     "text": [
      "{'Brian': {'main': 'rice', 'protein': 'ginger chicken', 'oz_of_protein': 3.5, 'side1': 'edamame', 'side2': 'tempura', 'side3': 'miso soup'}, 'Alex': {'main': 'soba', 'protein': 'tofu', 'oz_of_protein': 4, 'side1': 'cucumber salad', 'side2': 'pickled radish', 'side3': 'miso soup'}, 'Jamie': {'main': 'rice', 'protein': 'teriyaki beef', 'oz_of_protein': 5, 'side1': 'kimchi', 'side2': 'seaweed salad', 'side3': 'dumplings'}}\n",
      "<class 'dict'>\n",
      "\n",
      "Brian's Bento Order:\n",
      "  main: rice\n",
      "  protein: ginger chicken\n",
      "  oz_of_protein: 3.5\n",
      "  side1: edamame\n",
      "  side2: tempura\n",
      "  side3: miso soup\n",
      "\n",
      "Alex's Bento Order:\n",
      "  main: soba\n",
      "  protein: tofu\n",
      "  oz_of_protein: 4\n",
      "  side1: cucumber salad\n",
      "  side2: pickled radish\n",
      "  side3: miso soup\n",
      "\n",
      "Jamie's Bento Order:\n",
      "  main: rice\n",
      "  protein: teriyaki beef\n",
      "  oz_of_protein: 5\n",
      "  side1: kimchi\n",
      "  side2: seaweed salad\n",
      "  side3: dumplings\n"
     ]
    }
   ],
   "source": [
    "# Check your work\n",
    "# Print the entire nested dictionary\n",
    "print(group_bento_orders)\n",
    "\n",
    "# Check the type to confirm it's a dictionary\n",
    "print(type(group_bento_orders))  # Expected output: <class 'dict'>\n",
    "\n",
    "# Print each person's order separately for clarity\n",
    "for name, order in group_bento_orders.items():\n",
    "    print(f\"\\n{name}'s Bento Order:\")\n",
    "    for key, value in order.items():\n",
    "        print(f\"  {key}: {value}\")\n"
   ]
  },
  {
   "cell_type": "markdown",
   "metadata": {},
   "source": [
    "Now, if we wanted a list of people who ordered bento boxes, we could grab a list of those names by using `.keys()`"
   ]
  },
  {
   "cell_type": "code",
   "execution_count": 63,
   "metadata": {},
   "outputs": [
    {
     "name": "stdout",
     "output_type": "stream",
     "text": [
      "['Brian', 'Alex', 'Jamie']\n"
     ]
    }
   ],
   "source": [
    "# Code here to grab a list of who you have orders for\n",
    "order_names = list(group_bento_orders.keys())  \n",
    "print(order_names)  # Expected output: ['Brian', 'Alex', 'Jamie']\n"
   ]
  },
  {
   "cell_type": "code",
   "execution_count": 67,
   "metadata": {
    "scrolled": true
   },
   "outputs": [
    {
     "name": "stdout",
     "output_type": "stream",
     "text": [
      "['Brian', 'Alex', 'Jamie']\n",
      "<class 'list'>\n"
     ]
    }
   ],
   "source": [
    "# Check your work\n",
    "# Print the list of people who placed orders\n",
    "print(order_names)\n",
    "\n",
    "# Check the type to confirm it's a list\n",
    "print(type(order_names))  # Expected output: <class 'list'>\n"
   ]
  },
  {
   "cell_type": "markdown",
   "metadata": {},
   "source": [
    "## For loops\n",
    "\n",
    "Okay, is anyone confused about for loops? Let's practice.\n",
    "\n",
    "Write a loop to print the main ingredient in everyone's bento order. \n",
    "\n",
    "(This is easier if everyone named an ingredient 'main' in their dictionary, but can be done even if that's not the case - it's just more complicated.)\n",
    "\n",
    "Remember! You have already defined a list of everyone's names from above! You can use that in your for loop if you like."
   ]
  },
  {
   "cell_type": "code",
   "execution_count": 69,
   "metadata": {},
   "outputs": [
    {
     "name": "stdout",
     "output_type": "stream",
     "text": [
      "Brian's main dish: rice\n",
      "Alex's main dish: soba\n",
      "Jamie's main dish: rice\n"
     ]
    }
   ],
   "source": [
    "# Code here to write a for loop that prints each main\n",
    "# Loop through each person's order and print their main ingredient\n",
    "for name in order_names:\n",
    "    print(f\"{name}'s main dish: {group_bento_orders[name]['main']}\")\n"
   ]
  },
  {
   "cell_type": "markdown",
   "metadata": {},
   "source": [
    "### Bringing everything together!\n",
    "\n",
    "Now, using the names from the nested dictionaries, can we create a list of tuples with each name along with the protein they want? \n",
    "\n",
    "(Again, easier if everyone named an ingredient 'protein' in their dictionary...)\n",
    "\n",
    "([What even is a tuple?](http://openbookproject.net/thinkcs/python/english3e/tuples.html) It's hard to distinguish them from lists, except they use `()` instead of `[]`. The takeaway here is that tuples create a single immutable object when grouping data. If you're having trouble, try to use the linked resource to create your list of tuples below.)"
   ]
  },
  {
   "cell_type": "code",
   "execution_count": 71,
   "metadata": {},
   "outputs": [
    {
     "name": "stdout",
     "output_type": "stream",
     "text": [
      "[('Brian', 'ginger chicken'), ('Alex', 'tofu'), ('Jamie', 'teriyaki beef')]\n"
     ]
    }
   ],
   "source": [
    "# Code here to create a list of tuples for each person and their protein\n",
    "# Create a list of tuples with (name, protein)\n",
    "protein_list = [(name, group_bento_orders[name][\"protein\"]) for name in order_names]\n",
    "\n",
    "# Print the result\n",
    "print(protein_list)\n"
   ]
  },
  {
   "cell_type": "code",
   "execution_count": 73,
   "metadata": {},
   "outputs": [
    {
     "name": "stdout",
     "output_type": "stream",
     "text": [
      "[('Brian', 'ginger chicken'), ('Alex', 'tofu'), ('Jamie', 'teriyaki beef')]\n",
      "<class 'list'>\n",
      "True\n"
     ]
    }
   ],
   "source": [
    "# Code here to check your work\n",
    "# Tuple list will look like [('person', 'protein'), ...]\n",
    "# Print the list of tuples\n",
    "print(protein_list)\n",
    "\n",
    "# Check if protein_list is a list\n",
    "print(type(protein_list))  # Expected output: <class 'list'>\n",
    "\n",
    "# Check if each item inside is a tuple\n",
    "print(all(isinstance(item, tuple) for item in protein_list))  # Expected output: True\n"
   ]
  },
  {
   "cell_type": "markdown",
   "metadata": {},
   "source": [
    "Now, print each of your orders as readable sentences. \n",
    "\n",
    "You can use `.join()` or f-strings or `.format()` - no wrong way to do it! You may even want to use nested for loops here!"
   ]
  },
  {
   "cell_type": "code",
   "execution_count": 75,
   "metadata": {},
   "outputs": [
    {
     "name": "stdout",
     "output_type": "stream",
     "text": [
      "Brian ordered a bento with rice as the main, ginger chicken for protein, and 3.5 oz of it. Their sides are edamame, tempura, miso soup.\n",
      "Alex ordered a bento with soba as the main, tofu for protein, and 4 oz of it. Their sides are cucumber salad, pickled radish, miso soup.\n",
      "Jamie ordered a bento with rice as the main, teriyaki beef for protein, and 5 oz of it. Their sides are kimchi, seaweed salad, dumplings.\n"
     ]
    }
   ],
   "source": [
    "# Code here to print each order as a human-readable sentence\n",
    "# Loop through each person's order and format it into a readable sentence\n",
    "for name, order in group_bento_orders.items():\n",
    "    sides = \", \".join([order[\"side1\"], order[\"side2\"], order[\"side3\"]])  # Join side dishes into a string\n",
    "    print(f\"{name} ordered a bento with {order['main']} as the main, {order['protein']} for protein, and {order['oz_of_protein']} oz of it. Their sides are {sides}.\")\n"
   ]
  },
  {
   "cell_type": "markdown",
   "metadata": {},
   "source": [
    "### Reflection:\n",
    "\n",
    "What's a situation where you could use lists and loops to automate a process?\n",
    "\n",
    "- \n"
   ]
  }
 ],
 "metadata": {
  "kernelspec": {
   "display_name": "Python [conda env:base] *",
   "language": "python",
   "name": "conda-base-py"
  },
  "language_info": {
   "codemirror_mode": {
    "name": "ipython",
    "version": 3
   },
   "file_extension": ".py",
   "mimetype": "text/x-python",
   "name": "python",
   "nbconvert_exporter": "python",
   "pygments_lexer": "ipython3",
   "version": "3.12.7"
  },
  "latex_envs": {
   "LaTeX_envs_menu_present": true,
   "autoclose": false,
   "autocomplete": true,
   "bibliofile": "biblio.bib",
   "cite_by": "apalike",
   "current_citInitial": 1,
   "eqLabelWithNumbers": true,
   "eqNumInitial": 1,
   "hotkeys": {
    "equation": "Ctrl-E",
    "itemize": "Ctrl-I"
   },
   "labels_anchors": false,
   "latex_user_defs": false,
   "report_style_numbering": false,
   "user_envs_cfg": false
  },
  "toc": {
   "base_numbering": 1,
   "nav_menu": {},
   "number_sections": true,
   "sideBar": true,
   "skip_h1_title": false,
   "title_cell": "Table of Contents",
   "title_sidebar": "Contents",
   "toc_cell": false,
   "toc_position": {},
   "toc_section_display": true,
   "toc_window_display": false
  }
 },
 "nbformat": 4,
 "nbformat_minor": 4
}
